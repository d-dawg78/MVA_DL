{
 "cells": [
  {
   "cell_type": "code",
   "execution_count": null,
   "metadata": {},
   "outputs": [],
   "source": [
    "\"\"\"\n",
    "Docs for spotify track mining:\n",
    "\n",
    "https://spotipy.readthedocs.io/en/2.9.0/\n",
    "\"\"\"\n",
    "import time\n",
    "import sys\n",
    "import spotipy\n",
    "import spotipy.util as util\n",
    "from spotipy.oauth2 import SpotifyClientCredentials"
   ]
  },
  {
   "cell_type": "code",
   "execution_count": null,
   "metadata": {},
   "outputs": [],
   "source": [
    "# shows a user's playlists (need to be authenticated via oauth)\n",
    "client_id = \"fc38b7cf17894dffb6f84dede9b1385c\"\n",
    "client_secret = \"a94b446d21ef4b64a44c58cd14e27ed7\"\n",
    "username = \"elska.santiska\"\n",
    "\n",
    "# Setup the credentials\n",
    "client_credentials_manager = SpotifyClientCredentials(client_id=client_id, client_secret=client_secret)\n",
    "\n",
    "# Make the connection\n",
    "sp = spotipy.Spotify(client_credentials_manager=client_credentials_manager)"
   ]
  },
  {
   "cell_type": "code",
   "execution_count": null,
   "metadata": {},
   "outputs": [],
   "source": [
    "# Display Spotify track name and artist\n",
    "def show_tracks(tracks):\n",
    "    for i, item in enumerate(tracks['items']):\n",
    "        track = item['track']\n",
    "        print(\"   %d %32.32s %s\" % (i, track['artists'][0]['name'], track['name']))"
   ]
  },
  {
   "cell_type": "code",
   "execution_count": null,
   "metadata": {},
   "outputs": [],
   "source": [
    "\"\"\"\n",
    "Code adapted from here:\n",
    "\n",
    "https://morioh.com/p/31b8a607b2b0\n",
    "\"\"\"\n",
    "\n",
    "def tracks_list(tracks):\n",
    "    l = []\n",
    "    for i, item in enumerate(tracks['items']):\n",
    "        track = item['track']\n",
    "        l.append(track['id'])\n",
    "    return l\n",
    "     \n",
    "def getTrackIDs(user, playlist_id):\n",
    "    ids = []\n",
    "    playlist = sp.user_playlist(user, playlist_id)\n",
    "\n",
    "    print()\n",
    "    print(playlist['name'])\n",
    "    print ('  total tracks', playlist['tracks']['total'])\n",
    "    results = sp.playlist(playlist['id'], fields=\"tracks,next\")\n",
    "    tracks = results['tracks']\n",
    "    l = tracks_list(tracks)\n",
    "    \n",
    "    ids = ids + l\n",
    "    show_tracks(tracks)\n",
    "    \n",
    "    while tracks['next']:\n",
    "        tracks = sp.next(tracks)\n",
    "        l = tracks_list(tracks)\n",
    "        show_tracks(tracks)\n",
    "        ids = ids + l\n",
    "\n",
    "    return ids\n",
    "\n",
    "# Order: Blues, Country, hip-hop, disco/funk, jazz\n",
    "all_playlists = ['6P7U6eLrBLRNX0KyZ0sBZN', '2ft2Bv7QXiBU85YuZPT1Jp', '6k2AmdMu6TDYMJACqbWWWi',\n",
    "                '15yCKpjkz2iEUthclAFuAJ', '0jSPoJnEIvDtM8QLAay6dT']"
   ]
  },
  {
   "cell_type": "code",
   "execution_count": null,
   "metadata": {},
   "outputs": [],
   "source": [
    "\"\"\"\n",
    "Function from here:\n",
    "\n",
    "https://morioh.com/p/31b8a607b2b0\n",
    "\"\"\"\n",
    "\n",
    "def getTrackFeatures(id):\n",
    "    meta = sp.track(id)\n",
    "    features = sp.audio_features(id)\n",
    "\n",
    "    # meta\n",
    "    name = meta['name']\n",
    "    album = meta['album']['name']\n",
    "    artist = meta['album']['artists'][0]['name']\n",
    "    release_date = meta['album']['release_date']\n",
    "    length = meta['duration_ms']\n",
    "    popularity = meta['popularity']\n",
    "\n",
    "    # features\n",
    "    acousticness = features[0]['acousticness']\n",
    "    danceability = features[0]['danceability']\n",
    "    energy = features[0]['energy']\n",
    "    instrumentalness = features[0]['instrumentalness']\n",
    "    liveness = features[0]['liveness']\n",
    "    loudness = features[0]['loudness']\n",
    "    speechiness = features[0]['speechiness']\n",
    "    tempo = features[0]['tempo']\n",
    "    time_signature = features[0]['time_signature']\n",
    "\n",
    "    track = [name, album, artist, release_date, length, popularity, danceability, acousticness, danceability, energy, instrumentalness, liveness, loudness, speechiness, tempo, time_signature]\n",
    "    \n",
    "    return track"
   ]
  },
  {
   "cell_type": "code",
   "execution_count": null,
   "metadata": {},
   "outputs": [],
   "source": [
    "# Loop over all playlists\n",
    "tracks = []\n",
    "\n",
    "for el in all_playlists:\n",
    "\n",
    "    ids = getTrackIDs(username, el)\n",
    "\n",
    "    for i in range(len(ids)):\n",
    "        time.sleep(0.5)\n",
    "        \n",
    "        try:\n",
    "            track = getTrackFeatures(ids[i])\n",
    "            tracks.append(track)\n",
    "        \n",
    "        # Catch all exceptions and time to avoid Connection to Host issues\n",
    "        except Exception as e:\n",
    "            print(\"An exception was thrown!\")\n",
    "            print(str(e))\n",
    "            time.sleep(10)\n",
    "            track = getTrackFeatures(ids[i])\n",
    "            tracks.append(track)\n",
    "            \n",
    "        print(i)"
   ]
  },
  {
   "cell_type": "code",
   "execution_count": null,
   "metadata": {},
   "outputs": [],
   "source": [
    "# create dataset\n",
    "df = pd.DataFrame(tracks, columns = ['name', 'album', 'artist', 'release_date', 'length', 'popularity', 'danceability', 'acousticness', 'danceability', 'energy', 'instrumentalness', 'liveness', 'loudness', 'speechiness', 'tempo', 'time_signature'])\n",
    "df.to_csv(\"spotify.csv\", sep = ',')"
   ]
  }
 ],
 "metadata": {
  "kernelspec": {
   "display_name": "Python 3",
   "language": "python",
   "name": "python3"
  },
  "language_info": {
   "codemirror_mode": {
    "name": "ipython",
    "version": 3
   },
   "file_extension": ".py",
   "mimetype": "text/x-python",
   "name": "python",
   "nbconvert_exporter": "python",
   "pygments_lexer": "ipython3",
   "version": "3.8.3"
  }
 },
 "nbformat": 4,
 "nbformat_minor": 4
}
