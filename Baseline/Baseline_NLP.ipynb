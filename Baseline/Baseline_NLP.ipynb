{
  "nbformat": 4,
  "nbformat_minor": 0,
  "metadata": {
    "colab": {
      "name": "Baseline_NLP.ipynb",
      "provenance": [],
      "collapsed_sections": []
    },
    "kernelspec": {
      "name": "python3",
      "display_name": "Python 3"
    }
  },
  "cells": [
    {
      "cell_type": "markdown",
      "metadata": {
        "id": "onraCiYuVsvw"
      },
      "source": [
        "https://pytorch.org/tutorials/intermediate/char_rnn_classification_tutorial.html"
      ]
    },
    {
      "cell_type": "code",
      "metadata": {
        "id": "3slnjMorSwq1"
      },
      "source": [
        "import os\n",
        "import zipfile"
      ],
      "execution_count": null,
      "outputs": []
    },
    {
      "cell_type": "code",
      "metadata": {
        "colab": {
          "base_uri": "https://localhost:8080/"
        },
        "id": "MmlSr7xUNLOx",
        "outputId": "743f2667-50c5-45eb-a04c-a28c9f4c66d3"
      },
      "source": [
        "!wget -c https://download.pytorch.org/tutorial/data.zip\n",
        "!unzip data.zip\n",
        "print('done!')"
      ],
      "execution_count": null,
      "outputs": [
        {
          "output_type": "stream",
          "text": [
            "--2020-12-12 13:46:45--  https://download.pytorch.org/tutorial/data.zip\n",
            "Resolving download.pytorch.org (download.pytorch.org)... 13.225.97.95, 13.225.97.116, 13.225.97.19, ...\n",
            "Connecting to download.pytorch.org (download.pytorch.org)|13.225.97.95|:443... connected.\n",
            "HTTP request sent, awaiting response... 416 Requested Range Not Satisfiable\n",
            "\n",
            "    The file is already fully retrieved; nothing to do.\n",
            "\n",
            "Archive:  data.zip\n",
            "replace data/eng-fra.txt? [y]es, [n]o, [A]ll, [N]one, [r]ename: N\n",
            "done!\n"
          ],
          "name": "stdout"
        }
      ]
    },
    {
      "cell_type": "code",
      "metadata": {
        "id": "skPbchOkTYz-"
      },
      "source": [
        "from __future__ import unicode_literals, print_function, division\n",
        "from io import open\n",
        "import glob\n",
        "import os"
      ],
      "execution_count": null,
      "outputs": []
    },
    {
      "cell_type": "code",
      "metadata": {
        "colab": {
          "base_uri": "https://localhost:8080/"
        },
        "id": "Z3lBk10STtqb",
        "outputId": "b1903869-fa14-47f3-875f-e479706daa43"
      },
      "source": [
        "def findFiles(path): return glob.glob(path)\n",
        "\n",
        "print(findFiles('data/names/*.txt'))"
      ],
      "execution_count": null,
      "outputs": [
        {
          "output_type": "stream",
          "text": [
            "['data/names/Irish.txt', 'data/names/Spanish.txt', 'data/names/Scottish.txt', 'data/names/Vietnamese.txt', 'data/names/Japanese.txt', 'data/names/French.txt', 'data/names/Korean.txt', 'data/names/English.txt', 'data/names/Chinese.txt', 'data/names/Dutch.txt', 'data/names/German.txt', 'data/names/Arabic.txt', 'data/names/Italian.txt', 'data/names/Greek.txt', 'data/names/Russian.txt', 'data/names/Czech.txt', 'data/names/Portuguese.txt', 'data/names/Polish.txt']\n"
          ],
          "name": "stdout"
        }
      ]
    },
    {
      "cell_type": "code",
      "metadata": {
        "colab": {
          "base_uri": "https://localhost:8080/"
        },
        "id": "Sm0vKZE7UBas",
        "outputId": "0680734e-3680-4cc6-f322-e5ccf34a53bd"
      },
      "source": [
        "import unicodedata\n",
        "import string\n",
        "\n",
        "all_letters = string.ascii_letters + \" .,;'\"\n",
        "n_letters = len(all_letters)\n",
        "\n",
        "# Turn a Unicode string to plain ASCII, thanks to https://stackoverflow.com/a/518232/2809427\n",
        "def unicodeToAscii(s):\n",
        "    return ''.join(\n",
        "        c for c in unicodedata.normalize('NFD', s)\n",
        "        if unicodedata.category(c) != 'Mn'\n",
        "        and c in all_letters\n",
        "    )\n",
        "print(unicodeToAscii('Ślusàrski'))"
      ],
      "execution_count": null,
      "outputs": [
        {
          "output_type": "stream",
          "text": [
            "Slusarski\n"
          ],
          "name": "stdout"
        }
      ]
    },
    {
      "cell_type": "code",
      "metadata": {
        "colab": {
          "base_uri": "https://localhost:8080/"
        },
        "id": "xCE8GANWWIm9",
        "outputId": "4690e36d-7591-4e0f-be8e-466acaae30aa"
      },
      "source": [
        "#len(string.ascii_letters)"
      ],
      "execution_count": null,
      "outputs": [
        {
          "output_type": "execute_result",
          "data": {
            "text/plain": [
              "52"
            ]
          },
          "metadata": {
            "tags": []
          },
          "execution_count": 10
        }
      ]
    },
    {
      "cell_type": "code",
      "metadata": {
        "colab": {
          "base_uri": "https://localhost:8080/",
          "height": 35
        },
        "id": "Yx88ne37zuKZ",
        "outputId": "7fb77552-e15e-415b-9f54-c19208bbbc8f"
      },
      "source": [
        "filename = 'data/names/English.txt'\r\n",
        "os.path.splitext(os.path.basename(filename))[0]"
      ],
      "execution_count": null,
      "outputs": [
        {
          "output_type": "execute_result",
          "data": {
            "application/vnd.google.colaboratory.intrinsic+json": {
              "type": "string"
            },
            "text/plain": [
              "'English'"
            ]
          },
          "metadata": {
            "tags": []
          },
          "execution_count": 40
        }
      ]
    },
    {
      "cell_type": "code",
      "metadata": {
        "id": "_Qz3s4TTUaB1"
      },
      "source": [
        "# Build the category_lines dictionary, a list of names per language\n",
        "category_lines = {}\n",
        "all_categories = []\n",
        "\n",
        "# Read a file and split into lines\n",
        "def readLines(filename):\n",
        "    lines = open(filename, encoding='utf-8').read().strip().split('\\n')\n",
        "    return [unicodeToAscii(line) for line in lines]\n",
        "\n",
        "for filename in findFiles('data/names/*.txt'):\n",
        "    category = os.path.splitext(os.path.basename(filename))[0]\n",
        "    all_categories.append(category)\n",
        "    lines = readLines(filename)\n",
        "    category_lines[category] = lines\n",
        "\n",
        "n_categories = len(all_categories)"
      ],
      "execution_count": null,
      "outputs": []
    },
    {
      "cell_type": "code",
      "metadata": {
        "colab": {
          "base_uri": "https://localhost:8080/"
        },
        "id": "-ypFfzm4V8gf",
        "outputId": "3139cb36-eb0e-4251-dcfa-d5e0dcc6112d"
      },
      "source": [
        "#len(all_categories)\n",
        "print((category_lines['Italian'][0:5]))"
      ],
      "execution_count": null,
      "outputs": [
        {
          "output_type": "stream",
          "text": [
            "['Abandonato', 'Abatangelo', 'Abatantuono', 'Abate', 'Abategiovanni']\n"
          ],
          "name": "stdout"
        }
      ]
    },
    {
      "cell_type": "markdown",
      "metadata": {
        "id": "8dDVba9w4Hry"
      },
      "source": [
        "# Turning into tensor"
      ]
    },
    {
      "cell_type": "code",
      "metadata": {
        "id": "M9qP64WH7tj4"
      },
      "source": [
        "import torch"
      ],
      "execution_count": null,
      "outputs": []
    },
    {
      "cell_type": "code",
      "metadata": {
        "id": "oGUqrhEg3_D-"
      },
      "source": [
        "# find letter index form all_letters\r\n",
        "def letterToIndex(letter):\r\n",
        "  return all_letters.find(letter)\r\n",
        "\r\n",
        "def letterToTensor(letter):\r\n",
        "  tensor = torch.zeros(1, n_letters)\r\n",
        "  tensor[0][letterToIndex(letter)]=1\r\n",
        "  return tensor \r\n"
      ],
      "execution_count": null,
      "outputs": []
    },
    {
      "cell_type": "code",
      "metadata": {
        "id": "EIxUWDzf7fcd"
      },
      "source": [
        "def lineToTensor(line):\r\n",
        "  tensor = torch.zeros(len(line),1,n_letters)\r\n",
        "  for li,l in enumerate(line):\r\n",
        "    tensor[li][0][letterToIndex(l)] = 1\r\n",
        "  return tensor"
      ],
      "execution_count": null,
      "outputs": []
    },
    {
      "cell_type": "code",
      "metadata": {
        "colab": {
          "base_uri": "https://localhost:8080/"
        },
        "id": "lgfqcxM49M6u",
        "outputId": "1d3e957c-2822-4d02-a6d2-9ed7f1648ce1"
      },
      "source": [
        "#print(letterToTensor('J'))\r\n",
        "print(lineToTensor('Jones').size())"
      ],
      "execution_count": null,
      "outputs": [
        {
          "output_type": "stream",
          "text": [
            "torch.Size([5, 1, 57])\n"
          ],
          "name": "stdout"
        }
      ]
    },
    {
      "cell_type": "markdown",
      "metadata": {
        "id": "GQugj0fr-Iuo"
      },
      "source": [
        "# Creating The RNN network"
      ]
    },
    {
      "cell_type": "code",
      "metadata": {
        "id": "hhEzoua1-NId"
      },
      "source": [
        "import torch.nn as nn\r\n"
      ],
      "execution_count": null,
      "outputs": []
    },
    {
      "cell_type": "code",
      "metadata": {
        "id": "ZFqlMncoAJGT"
      },
      "source": [
        "class RNN(nn.Module):\r\n",
        "  def __init__(self, input_size, hidden_size, output_size):\r\n",
        "    super(RNN, self).__init__()\r\n",
        "\r\n",
        "    self.hidden_size = hidden_size\r\n",
        "    #self.input_size = input_size\r\n",
        "\r\n",
        "    self.i2h = nn.Linear(input_size+ hidden_size, hidden_size)\r\n",
        "    self.i2o = nn.Linear(input_size+ hidden_size, output_size)\r\n",
        "    self.softmax = nn.LogSoftmax(dim = 1)\r\n",
        "  \r\n",
        "  def forward(self, input, hidden):\r\n",
        "    combined = torch.cat((input, hidden), 1)\r\n",
        "    hidden = self.i2h(combined)\r\n",
        "    output = self.i2o(combined)\r\n",
        "    output = self.softmax(output)\r\n",
        "    return output, hidden \r\n",
        "\r\n",
        "  def initHidden(self):\r\n",
        "    return torch.zeros(1, self.hidden_size)\r\n"
      ],
      "execution_count": null,
      "outputs": []
    },
    {
      "cell_type": "code",
      "metadata": {
        "colab": {
          "base_uri": "https://localhost:8080/"
        },
        "id": "aEL9fsSHQO00",
        "outputId": "7dc44ea0-ac7a-47cd-f123-a93be1bb31d9"
      },
      "source": [
        "n_letters"
      ],
      "execution_count": null,
      "outputs": [
        {
          "output_type": "execute_result",
          "data": {
            "text/plain": [
              "57"
            ]
          },
          "metadata": {
            "tags": []
          },
          "execution_count": 95
        }
      ]
    },
    {
      "cell_type": "code",
      "metadata": {
        "id": "hUAo5QK1PH0t"
      },
      "source": [
        "n_hidden = 128\r\n",
        "rnn = RNN(n_letters, n_hidden, n_categories)"
      ],
      "execution_count": null,
      "outputs": []
    },
    {
      "cell_type": "code",
      "metadata": {
        "colab": {
          "base_uri": "https://localhost:8080/"
        },
        "id": "T9i8k_4jWRDI",
        "outputId": "aabfc74f-eeaa-4eed-d38a-f2a460bfef78"
      },
      "source": [
        "rnn"
      ],
      "execution_count": null,
      "outputs": [
        {
          "output_type": "execute_result",
          "data": {
            "text/plain": [
              "RNN(\n",
              "  (i2h): Linear(in_features=185, out_features=128, bias=True)\n",
              "  (i2o): Linear(in_features=185, out_features=18, bias=True)\n",
              "  (softmax): LogSoftmax(dim=1)\n",
              ")"
            ]
          },
          "metadata": {
            "tags": []
          },
          "execution_count": 120
        }
      ]
    },
    {
      "cell_type": "code",
      "metadata": {
        "colab": {
          "base_uri": "https://localhost:8080/"
        },
        "id": "I_Q_4EncWdEO",
        "outputId": "81c9476d-1771-4733-980b-c5e08583c2d3"
      },
      "source": [
        "inp = letterToTensor('A')\r\n",
        "hidden = torch.zeros(1, n_hidden)\r\n",
        "output, next_hidden = rnn(inp, hidden)\r\n",
        "print(output)\r\n",
        "print(next_hidden.shape)"
      ],
      "execution_count": null,
      "outputs": [
        {
          "output_type": "stream",
          "text": [
            "tensor([[-2.8529, -2.9172, -2.9163, -2.8434, -2.9421, -2.9584, -2.8782, -2.8244,\n",
            "         -2.8544, -2.9015, -2.8532, -2.9456, -2.8388, -2.9458, -2.9224, -2.8596,\n",
            "         -2.9018, -2.8859]], grad_fn=<LogSoftmaxBackward>)\n",
            "torch.Size([1, 128])\n"
          ],
          "name": "stdout"
        }
      ]
    },
    {
      "cell_type": "code",
      "metadata": {
        "colab": {
          "base_uri": "https://localhost:8080/"
        },
        "id": "W4URR4T_hC0x",
        "outputId": "78500a76-0089-47ca-8276-398679e77607"
      },
      "source": [
        "input = lineToTensor('Albert')\r\n",
        "hidden = torch.zeros(1, n_hidden)\r\n",
        "\r\n",
        "output, next_hidden = rnn(input[0], hidden)\r\n",
        "print(output)"
      ],
      "execution_count": null,
      "outputs": [
        {
          "output_type": "stream",
          "text": [
            "tensor([[-2.8529, -2.9172, -2.9163, -2.8434, -2.9421, -2.9584, -2.8782, -2.8244,\n",
            "         -2.8544, -2.9015, -2.8532, -2.9456, -2.8388, -2.9458, -2.9224, -2.8596,\n",
            "         -2.9018, -2.8859]], grad_fn=<LogSoftmaxBackward>)\n"
          ],
          "name": "stdout"
        }
      ]
    },
    {
      "cell_type": "code",
      "metadata": {
        "colab": {
          "base_uri": "https://localhost:8080/"
        },
        "id": "ac5zmzcxin16",
        "outputId": "f82058ce-4b1e-408e-b27a-4592e368009a"
      },
      "source": [
        "# get the index of the greatest value : \r\n",
        "def categoryFromOutput(output):\r\n",
        "    top_n, top_i = output.topk(1)\r\n",
        "    category_i = top_i[0].item()\r\n",
        "    return all_categories[category_i], category_i\r\n",
        "\r\n",
        "print(categoryFromOutput(output))"
      ],
      "execution_count": null,
      "outputs": [
        {
          "output_type": "stream",
          "text": [
            "('English', 7)\n"
          ],
          "name": "stdout"
        }
      ]
    },
    {
      "cell_type": "code",
      "metadata": {
        "colab": {
          "base_uri": "https://localhost:8080/"
        },
        "id": "kiHkKkf-k6-r",
        "outputId": "110e1e0b-8fc8-42c4-c99f-397fded3979a"
      },
      "source": [
        "import random\r\n",
        "\r\n",
        "def randomChoice(l):\r\n",
        "    return l[random.randint(0, len(l) - 1)]\r\n",
        "\r\n",
        "def randomTrainingExample():\r\n",
        "    category = randomChoice(all_categories)\r\n",
        "    line = randomChoice(category_lines[category])\r\n",
        "    category_tensor = torch.tensor([all_categories.index(category)], dtype=torch.long)\r\n",
        "    line_tensor = lineToTensor(line)\r\n",
        "    return category, line, category_tensor, line_tensor\r\n",
        "\r\n",
        "for i in range(10):\r\n",
        "    category, line, category_tensor, line_tensor = randomTrainingExample()\r\n",
        "    print('category =', category, '/ line =', line)"
      ],
      "execution_count": null,
      "outputs": [
        {
          "output_type": "stream",
          "text": [
            "category = English / line = Kirkpatrick\n",
            "category = French / line = Sarkozi\n",
            "category = Chinese / line = Shen\n",
            "category = Italian / line = Boveri\n",
            "category = Czech / line = Matocha\n",
            "category = Portuguese / line = Silveira\n",
            "category = Scottish / line = Anderson\n",
            "category = Russian / line = Shakhurin\n",
            "category = Arabic / line = Seif\n",
            "category = Polish / line = Jaskulski\n"
          ],
          "name": "stdout"
        }
      ]
    },
    {
      "cell_type": "markdown",
      "metadata": {
        "id": "1nDvNxlXlyqF"
      },
      "source": [
        "# Training the network()"
      ]
    },
    {
      "cell_type": "code",
      "metadata": {
        "id": "7-KWVG2hnBFX"
      },
      "source": [
        "# Loss function :\r\n",
        "criterion = nn.NLLLoss()"
      ],
      "execution_count": null,
      "outputs": []
    },
    {
      "cell_type": "code",
      "metadata": {
        "id": "a_XvGspLo63G"
      },
      "source": [
        "learning_rate = 0.005 # If you set this too high, it might explode. If too low, it might not learn\r\n",
        "\r\n",
        "def train(category_tensor, line_tensor):\r\n",
        "    hidden = rnn.initHidden()\r\n",
        "\r\n",
        "    rnn.zero_grad()\r\n",
        "\r\n",
        "    for i in range(line_tensor.size()[0]):\r\n",
        "        output, hidden = rnn(line_tensor[i], hidden)\r\n",
        "\r\n",
        "    loss = criterion(output, category_tensor)\r\n",
        "    loss.backward()\r\n",
        "\r\n",
        "    # Add parameters' gradients to their values, multiplied by learning rate\r\n",
        "    for p in rnn.parameters():\r\n",
        "        p.data.add_(p.grad.data, alpha=-learning_rate)\r\n",
        "\r\n",
        "    return output, loss.item()"
      ],
      "execution_count": null,
      "outputs": []
    },
    {
      "cell_type": "code",
      "metadata": {
        "id": "88HVMA1dpV9P"
      },
      "source": [
        "import time\r\n",
        "import math\r\n"
      ],
      "execution_count": null,
      "outputs": []
    },
    {
      "cell_type": "code",
      "metadata": {
        "id": "3htd2jiyqc1G"
      },
      "source": [
        "n_iters = 100000\r\n",
        "print_every = 5000\r\n",
        "plot_every = 1000\r\n"
      ],
      "execution_count": null,
      "outputs": []
    },
    {
      "cell_type": "code",
      "metadata": {
        "colab": {
          "base_uri": "https://localhost:8080/"
        },
        "id": "HOXKWSiupmcQ",
        "outputId": "163972dc-8fbd-4fa8-e18e-0836d1c8dd61"
      },
      "source": [
        "# Keep track of losses for plotting\r\n",
        "current_loss = 0\r\n",
        "all_losses = []\r\n",
        "\r\n",
        "def timeSince(since):\r\n",
        "    now = time.time()\r\n",
        "    s = now - since\r\n",
        "    m = math.floor(s / 60)\r\n",
        "    s -= m * 60\r\n",
        "    return '%dm %ds' % (m, s)\r\n",
        "\r\n",
        "start = time.time()\r\n",
        "\r\n",
        "for iter in range(1, n_iters + 1):\r\n",
        "    category, line, category_tensor, line_tensor = randomTrainingExample()\r\n",
        "    output, loss = train(category_tensor, line_tensor)\r\n",
        "    current_loss += loss\r\n",
        "\r\n",
        "    # Print iter number, loss, name and guess\r\n",
        "    if iter % print_every == 0:\r\n",
        "        guess, guess_i = categoryFromOutput(output)\r\n",
        "        correct = '✓' if guess == category else '✗ (%s)' % category\r\n",
        "        print('%d %d%% (%s) %.4f %s / %s %s' % (iter, iter / n_iters * 100, timeSince(start), loss, line, guess, correct))\r\n",
        "\r\n",
        "    # Add current loss avg to list of losses\r\n",
        "    if iter % plot_every == 0:\r\n",
        "        all_losses.append(current_loss / plot_every)\r\n",
        "        current_loss = 0"
      ],
      "execution_count": null,
      "outputs": [
        {
          "output_type": "stream",
          "text": [
            "5000 5% (0m 6s) 2.6403 Weeks / Greek ✗ (English)\n",
            "10000 10% (0m 13s) 1.4984 Nahas / Arabic ✓\n",
            "15000 15% (0m 20s) 2.2728 Chilar / Arabic ✗ (Czech)\n",
            "20000 20% (0m 27s) 1.7651 Simpson / Russian ✗ (Scottish)\n",
            "25000 25% (0m 34s) 2.8061 Mcloughlin / Irish ✗ (English)\n",
            "30000 30% (0m 41s) 0.9787 Xiong / Chinese ✓\n",
            "35000 35% (0m 47s) 1.2932 Yim / Korean ✗ (Chinese)\n",
            "40000 40% (0m 54s) 2.9706 William / Czech ✗ (Irish)\n",
            "45000 45% (1m 1s) 4.7662 Wykruta / Japanese ✗ (Czech)\n",
            "50000 50% (1m 8s) 0.7371 Hlobystin / Russian ✓\n",
            "55000 55% (1m 15s) 0.7136 Samaha / Arabic ✓\n",
            "60000 60% (1m 23s) 0.8998 Miller / Scottish ✓\n",
            "65000 65% (1m 30s) 0.1406 Shinozaki / Japanese ✓\n",
            "70000 70% (1m 36s) 1.8194 Riedel / Dutch ✗ (Czech)\n",
            "75000 75% (1m 43s) 2.0691 Hanania / Czech ✗ (Arabic)\n",
            "80000 80% (1m 50s) 0.9113 Krhovsky / Russian ✗ (Czech)\n",
            "85000 85% (1m 56s) 0.7060 Piatek / Polish ✓\n",
            "90000 90% (2m 3s) 0.1841 Maloof / Arabic ✓\n",
            "95000 95% (2m 10s) 1.5562 Thurston / Russian ✗ (English)\n",
            "100000 100% (2m 17s) 1.4641 Anselmetti / Italian ✓\n"
          ],
          "name": "stdout"
        }
      ]
    },
    {
      "cell_type": "code",
      "metadata": {
        "colab": {
          "base_uri": "https://localhost:8080/",
          "height": 281
        },
        "id": "-u8T9uZWrMcx",
        "outputId": "af7accc9-ea2f-4d0c-e617-2fb40868d2e0"
      },
      "source": [
        "import matplotlib.pyplot as plt\r\n",
        "import matplotlib.ticker as ticker\r\n",
        "\r\n",
        "plt.figure()\r\n",
        "plt.plot(all_losses)"
      ],
      "execution_count": null,
      "outputs": [
        {
          "output_type": "execute_result",
          "data": {
            "text/plain": [
              "[<matplotlib.lines.Line2D at 0x7f6a18029390>]"
            ]
          },
          "metadata": {
            "tags": []
          },
          "execution_count": 143
        },
        {
          "output_type": "display_data",
          "data": {
            "image/png": "[encoded data removed]",
            "text/plain": [
              "<Figure size 432x288 with 1 Axes>"
            ]
          },
          "metadata": {
            "tags": [],
            "needs_background": "light"
          }
        }
      ]
    },
    {
      "cell_type": "code",
      "metadata": {
        "colab": {
          "base_uri": "https://localhost:8080/",
          "height": 320
        },
        "id": "MsyNCtWBsi7v",
        "outputId": "bab8b054-b045-4498-b06e-cfc72b669dea"
      },
      "source": [
        "# Keep track of correct guesses in a confusion matrix\r\n",
        "confusion = torch.zeros(n_categories, n_categories)\r\n",
        "n_confusion = 10000\r\n",
        "\r\n",
        "# Just return an output given a line\r\n",
        "def evaluate(line_tensor):\r\n",
        "    hidden = rnn.initHidden()\r\n",
        "\r\n",
        "    for i in range(line_tensor.size()[0]):\r\n",
        "        output, hidden = rnn(line_tensor[i], hidden)\r\n",
        "\r\n",
        "    return output\r\n",
        "\r\n",
        "# Go through a bunch of examples and record which are correctly guessed\r\n",
        "for i in range(n_confusion):\r\n",
        "    category, line, category_tensor, line_tensor = randomTrainingExample()\r\n",
        "    output = evaluate(line_tensor)\r\n",
        "    guess, guess_i = categoryFromOutput(output)\r\n",
        "    category_i = all_categories.index(category)\r\n",
        "    confusion[category_i][guess_i] += 1\r\n",
        "\r\n",
        "# Normalize by dividing every row by its sum\r\n",
        "for i in range(n_categories):\r\n",
        "    confusion[i] = confusion[i] / confusion[i].sum()\r\n",
        "\r\n",
        "# Set up plot\r\n",
        "fig = plt.figure()\r\n",
        "ax = fig.add_subplot(111)\r\n",
        "cax = ax.matshow(confusion.numpy())\r\n",
        "fig.colorbar(cax)\r\n",
        "\r\n",
        "# Set up axes\r\n",
        "ax.set_xticklabels([''] + all_categories, rotation=90)\r\n",
        "ax.set_yticklabels([''] + all_categories)\r\n",
        "\r\n",
        "# Force label at every tick\r\n",
        "ax.xaxis.set_major_locator(ticker.MultipleLocator(1))\r\n",
        "ax.yaxis.set_major_locator(ticker.MultipleLocator(1))\r\n",
        "\r\n",
        "# sphinx_gallery_thumbnail_number = 2\r\n",
        "plt.show()"
      ],
      "execution_count": null,
      "outputs": [
        {
          "output_type": "display_data",
          "data": {
            "image/png": "[encoded data removed]",
            "text/plain": [
              "<Figure size 432x288 with 2 Axes>"
            ]
          },
          "metadata": {
            "tags": [],
            "needs_background": "light"
          }
        }
      ]
    },
    {
      "cell_type": "code",
      "metadata": {
        "colab": {
          "base_uri": "https://localhost:8080/"
        },
        "id": "35wPmweMri5d",
        "outputId": "d97aa03b-34de-4b76-b8a4-b0663a12300d"
      },
      "source": [
        "def predict(input_line, n_predictions=3):\r\n",
        "    print('\\n> %s' % input_line)\r\n",
        "    with torch.no_grad():\r\n",
        "        output = evaluate(lineToTensor(input_line))\r\n",
        "\r\n",
        "        # Get top N categories\r\n",
        "        topv, topi = output.topk(n_predictions, 1, True)\r\n",
        "        predictions = []\r\n",
        "\r\n",
        "        for i in range(n_predictions):\r\n",
        "            value = topv[0][i].item()\r\n",
        "            category_index = topi[0][i].item()\r\n",
        "            print('(%.2f) %s' % (value, all_categories[category_index]))\r\n",
        "            predictions.append([value, all_categories[category_index]])\r\n",
        "\r\n",
        "predict('Dovesky')\r\n",
        "predict('Jackson')\r\n",
        "predict('Satoshi')"
      ],
      "execution_count": null,
      "outputs": [
        {
          "output_type": "stream",
          "text": [
            "\n",
            "> Dovesky\n",
            "(-0.83) Czech\n",
            "(-0.96) Russian\n",
            "(-2.52) English\n",
            "\n",
            "> Jackson\n",
            "(-0.44) Scottish\n",
            "(-1.70) English\n",
            "(-2.78) Russian\n",
            "\n",
            "> Satoshi\n",
            "(-1.14) Japanese\n",
            "(-1.67) Arabic\n",
            "(-1.79) Polish\n"
          ],
          "name": "stdout"
        }
      ]
    },
    {
      "cell_type": "markdown",
      "metadata": {
        "id": "G_lGai633UnM"
      },
      "source": [
        "# Generating names with a character level RNN "
      ]
    },
    {
      "cell_type": "markdown",
      "metadata": {
        "id": "mNYoM9QZazRr"
      },
      "source": [
        "https://pytorch.org/tutorials/intermediate/char_rnn_generation_tutorial.html"
      ]
    },
    {
      "cell_type": "code",
      "metadata": {
        "id": "pXotLgMt3TeZ"
      },
      "source": [
        "import os \n",
        "import zipfile \n"
      ],
      "execution_count": null,
      "outputs": []
    },
    {
      "cell_type": "code",
      "metadata": {
        "colab": {
          "base_uri": "https://localhost:8080/"
        },
        "id": "QrysYaGS4-Eu",
        "outputId": "66d84cc0-5642-4463-9891-e574dda4bf3c"
      },
      "source": [
        "!wget -c https://download.pytorch.org/tutorial/data.zip\n",
        "!unzip data.zip \n",
        "print('done')"
      ],
      "execution_count": null,
      "outputs": [
        {
          "output_type": "stream",
          "text": [
            "--2020-12-22 12:19:08--  https://download.pytorch.org/tutorial/data.zip\n",
            "Resolving download.pytorch.org (download.pytorch.org)... 13.225.97.19, 13.225.97.116, 13.225.97.95, ...\n",
            "Connecting to download.pytorch.org (download.pytorch.org)|13.225.97.19|:443... connected.\n",
            "HTTP request sent, awaiting response... 200 OK\n",
            "Length: 2882130 (2.7M) [application/zip]\n",
            "Saving to: ‘data.zip’\n",
            "\n",
            "data.zip            100%[===================>]   2.75M  13.9MB/s    in 0.2s    \n",
            "\n",
            "2020-12-22 12:19:09 (13.9 MB/s) - ‘data.zip’ saved [2882130/2882130]\n",
            "\n",
            "Archive:  data.zip\n",
            "   creating: data/\n",
            "  inflating: data/eng-fra.txt        \n",
            "   creating: data/names/\n",
            "  inflating: data/names/Arabic.txt   \n",
            "  inflating: data/names/Chinese.txt  \n",
            "  inflating: data/names/Czech.txt    \n",
            "  inflating: data/names/Dutch.txt    \n",
            "  inflating: data/names/English.txt  \n",
            "  inflating: data/names/French.txt   \n",
            "  inflating: data/names/German.txt   \n",
            "  inflating: data/names/Greek.txt    \n",
            "  inflating: data/names/Irish.txt    \n",
            "  inflating: data/names/Italian.txt  \n",
            "  inflating: data/names/Japanese.txt  \n",
            "  inflating: data/names/Korean.txt   \n",
            "  inflating: data/names/Polish.txt   \n",
            "  inflating: data/names/Portuguese.txt  \n",
            "  inflating: data/names/Russian.txt  \n",
            "  inflating: data/names/Scottish.txt  \n",
            "  inflating: data/names/Spanish.txt  \n",
            "  inflating: data/names/Vietnamese.txt  \n",
            "done\n"
          ],
          "name": "stdout"
        }
      ]
    },
    {
      "cell_type": "code",
      "metadata": {
        "id": "aPlPGFtS5bHI"
      },
      "source": [
        "from __future__ import unicode_literals, print_function, division \n",
        "from io import open \n",
        "import os \n",
        "import glob\n",
        "import unicodedata\n",
        "import string "
      ],
      "execution_count": null,
      "outputs": []
    },
    {
      "cell_type": "code",
      "metadata": {
        "id": "29hdyAca6eix"
      },
      "source": [
        "all_letters = string.ascii_letters+ \" .,;'-\"\n",
        "n_letters  = len(all_letters)+1"
      ],
      "execution_count": null,
      "outputs": []
    },
    {
      "cell_type": "code",
      "metadata": {
        "colab": {
          "base_uri": "https://localhost:8080/",
          "height": 35
        },
        "id": "ONqXSxQC6zK_",
        "outputId": "9a41445b-c598-4f0e-ce19-1cb1daa54e70"
      },
      "source": [
        "all_letters"
      ],
      "execution_count": null,
      "outputs": [
        {
          "output_type": "execute_result",
          "data": {
            "application/vnd.google.colaboratory.intrinsic+json": {
              "type": "string"
            },
            "text/plain": [
              "\"abcdefghijklmnopqrstuvwxyzABCDEFGHIJKLMNOPQRSTUVWXYZ .,;'-\""
            ]
          },
          "metadata": {
            "tags": []
          },
          "execution_count": 5
        }
      ]
    },
    {
      "cell_type": "code",
      "metadata": {
        "id": "kjYXvwJZ-GYC"
      },
      "source": [
        "def findFiles(path): return glob.glob(path)"
      ],
      "execution_count": null,
      "outputs": []
    },
    {
      "cell_type": "code",
      "metadata": {
        "id": "eHaTmr407BwJ"
      },
      "source": [
        "# convert from unicode to ASCii\n",
        "def unicodeToAscii(s):\n",
        "  return ''.join(\n",
        "      c for c in unicodedata.normalize('NFD', s)\n",
        "      if unicodedata.category(c)!= 'Mn'\n",
        "      and c in all_letters\n",
        "      \n",
        "  )"
      ],
      "execution_count": null,
      "outputs": []
    },
    {
      "cell_type": "code",
      "metadata": {
        "id": "xbCrQyvT8TMW"
      },
      "source": [
        "# read file and split into line and return result as list :\n",
        "\n",
        "def readLines(filename):\n",
        "  lines = open(filename, encoding='utf-8').read().strip().split('\\n')\n",
        "  return [unicodeToAscii(line) for line in lines]"
      ],
      "execution_count": null,
      "outputs": []
    },
    {
      "cell_type": "code",
      "metadata": {
        "colab": {
          "base_uri": "https://localhost:8080/"
        },
        "id": "sSuxBkI794en",
        "outputId": "9c5baf84-a798-439f-ea61-36047c789dee"
      },
      "source": [
        "# build category_lines dictionary , and list of all categories \n",
        "category_lines = {}\n",
        "all_categories = []\n",
        "\n",
        "for filename in findFiles('data/names/*.txt'):\n",
        "  category = os.path.splitext(os.path.basename(filename))[0]\n",
        "  all_categories.append(category)\n",
        "  lines = readLines(filename)\n",
        "  category_lines[category] = lines\n",
        "\n",
        "n_categories = len(all_categories)\n",
        "print('categories:', n_categories, all_categories)"
      ],
      "execution_count": null,
      "outputs": [
        {
          "output_type": "stream",
          "text": [
            "categories: 18 ['Italian', 'Korean', 'Irish', 'French', 'Greek', 'Polish', 'Arabic', 'Portuguese', 'German', 'Russian', 'Japanese', 'Czech', 'English', 'Dutch', 'Chinese', 'Vietnamese', 'Scottish', 'Spanish']\n"
          ],
          "name": "stdout"
        }
      ]
    },
    {
      "cell_type": "code",
      "metadata": {
        "colab": {
          "base_uri": "https://localhost:8080/"
        },
        "id": "jltOqFUdDMXM",
        "outputId": "f92c81b7-4684-4d27-f3d3-0569a24718aa"
      },
      "source": [
        "(category_lines['Italian'][1:5])"
      ],
      "execution_count": null,
      "outputs": [
        {
          "output_type": "execute_result",
          "data": {
            "text/plain": [
              "['Abatangelo', 'Abatantuono', 'Abate', 'Abategiovanni']"
            ]
          },
          "metadata": {
            "tags": []
          },
          "execution_count": 11
        }
      ]
    },
    {
      "cell_type": "code",
      "metadata": {
        "colab": {
          "base_uri": "https://localhost:8080/"
        },
        "id": "wEGAsjyZCsX-",
        "outputId": "992cb3d4-185a-422d-a4e9-206801b4a437"
      },
      "source": [
        "n_categories\n"
      ],
      "execution_count": null,
      "outputs": [
        {
          "output_type": "execute_result",
          "data": {
            "text/plain": [
              "18"
            ]
          },
          "metadata": {
            "tags": []
          },
          "execution_count": 14
        }
      ]
    },
    {
      "cell_type": "markdown",
      "metadata": {
        "id": "3-T_tPBnORRh"
      },
      "source": [
        "# Network"
      ]
    },
    {
      "cell_type": "code",
      "metadata": {
        "id": "sqRmQJ-JOUo6"
      },
      "source": [
        "import torch \n",
        "import torch.nn as nn\n"
      ],
      "execution_count": null,
      "outputs": []
    },
    {
      "cell_type": "code",
      "metadata": {
        "id": "-uyyhG9GOfk0"
      },
      "source": [
        "class RNN(nn.Module):\n",
        "  def __init__(self, input_size, hidden_size, output_size):\n",
        "    super(RNN, self).__init__()\n",
        "    self.hidden_size = hidden_size\n",
        "\n",
        "    self.i2h = nn.Linear(n_categories+ input_size+ hidden_size, hidden_size )\n",
        "    self.i2o = nn.Linear(n_categories+ input_size + hidden_size, output_size)\n",
        "    self.o2o = nn.Linear(hidden_size+output_size, output_size)\n",
        "\n",
        "    self.dropout = nn.Dropout(0.1)\n",
        "    self.solfmax = nn.LogSoftmax(dim = 1)\n",
        "\n",
        "  def forward(self, category, input, hidden):\n",
        "    input_combined = torch.cat((category, input, hidden), 1)\n",
        "    i2o = self.i2o(input_combined)\n",
        "    i2h = self.i2h(input_combined)\n",
        "\n",
        "    output_combined = torch.cat((i2o, i2h), dim = 1)\n",
        "    o2o = self.o2o(output_combined)\n",
        "\n",
        "    o2o = self.dropout(o2o)\n",
        "    return self.solfmax(o2o), i2h\n",
        "  \n",
        "  def initHidden(self):\n",
        "    return torch.zeros(1, self.hidden_size)"
      ],
      "execution_count": null,
      "outputs": []
    },
    {
      "cell_type": "code",
      "metadata": {
        "id": "PbdarhZ5WUa8"
      },
      "source": [
        "# help the training  "
      ],
      "execution_count": null,
      "outputs": []
    },
    {
      "cell_type": "code",
      "metadata": {
        "id": "oIOmzoYlXCNg"
      },
      "source": [
        "import random \n",
        "\n",
        "# random item from a list \n",
        "def randomChoice(l):\n",
        "  return l[ random.randint(0, len(l)-1) ]\n",
        "\n",
        "\n",
        "def randomTrainingPair():\n",
        "  category = randomChoice(all_categories)\n",
        "  line = randomChoice(category_lines[category])\n",
        "  return category, line\n",
        "  "
      ],
      "execution_count": null,
      "outputs": []
    },
    {
      "cell_type": "code",
      "metadata": {
        "colab": {
          "base_uri": "https://localhost:8080/"
        },
        "id": "63lf5tPY6K8T",
        "outputId": "d7bc0ca0-8db7-4e10-e649-e09a67321914"
      },
      "source": [
        "randomTrainingPair()"
      ],
      "execution_count": null,
      "outputs": [
        {
          "output_type": "execute_result",
          "data": {
            "text/plain": [
              "('Japanese', 'Nakasone')"
            ]
          },
          "metadata": {
            "tags": []
          },
          "execution_count": 54
        }
      ]
    },
    {
      "cell_type": "code",
      "metadata": {
        "id": "x6yMpEeOaT0x"
      },
      "source": [
        "def categoryTensor(category):\n",
        "  li = all_categories.index(category)\n",
        "  tens = torch.zeros(1, n_categories)\n",
        "  tens[0][li] = 1\n",
        "  return tens"
      ],
      "execution_count": null,
      "outputs": []
    },
    {
      "cell_type": "code",
      "metadata": {
        "colab": {
          "base_uri": "https://localhost:8080/"
        },
        "id": "yKOZ_iywd4DD",
        "outputId": "c95f43d1-01b6-4c23-9dca-6f6a9a8ad45f"
      },
      "source": [
        "categoryTensor( 'Korean')"
      ],
      "execution_count": null,
      "outputs": [
        {
          "output_type": "execute_result",
          "data": {
            "text/plain": [
              "tensor([[0., 1., 0., 0., 0., 0., 0., 0., 0., 0., 0., 0., 0., 0., 0., 0., 0., 0.]])"
            ]
          },
          "metadata": {
            "tags": []
          },
          "execution_count": 57
        }
      ]
    },
    {
      "cell_type": "code",
      "metadata": {
        "id": "Xs22FQY_egcG"
      },
      "source": [
        "def inputTensor(line):\n",
        "  tens = torch.zeros(len(line), 1,n_letters )\n",
        "  for li, l in enumerate(line):\n",
        "    tens[li][0][all_letters.find(l)]=1\n",
        "  return tens "
      ],
      "execution_count": null,
      "outputs": []
    },
    {
      "cell_type": "code",
      "metadata": {
        "colab": {
          "base_uri": "https://localhost:8080/"
        },
        "id": "aqBfP1Fjgf5A",
        "outputId": "b68c7b3f-8afc-4f1a-a7f7-c950fded6b95"
      },
      "source": [
        "inputTensor('Ali')"
      ],
      "execution_count": null,
      "outputs": [
        {
          "output_type": "execute_result",
          "data": {
            "text/plain": [
              "tensor([[[0., 0., 0., 0., 0., 0., 0., 0., 0., 0., 0., 0., 0., 0., 0., 0., 0.,\n",
              "          0., 0., 0., 0., 0., 0., 0., 0., 0., 1., 0., 0., 0., 0., 0., 0., 0.,\n",
              "          0., 0., 0., 0., 0., 0., 0., 0., 0., 0., 0., 0., 0., 0., 0., 0., 0.,\n",
              "          0., 0., 0., 0., 0., 0., 0., 0.]],\n",
              "\n",
              "        [[0., 0., 0., 0., 0., 0., 0., 0., 0., 0., 0., 1., 0., 0., 0., 0., 0.,\n",
              "          0., 0., 0., 0., 0., 0., 0., 0., 0., 0., 0., 0., 0., 0., 0., 0., 0.,\n",
              "          0., 0., 0., 0., 0., 0., 0., 0., 0., 0., 0., 0., 0., 0., 0., 0., 0.,\n",
              "          0., 0., 0., 0., 0., 0., 0., 0.]],\n",
              "\n",
              "        [[0., 0., 0., 0., 0., 0., 0., 0., 1., 0., 0., 0., 0., 0., 0., 0., 0.,\n",
              "          0., 0., 0., 0., 0., 0., 0., 0., 0., 0., 0., 0., 0., 0., 0., 0., 0.,\n",
              "          0., 0., 0., 0., 0., 0., 0., 0., 0., 0., 0., 0., 0., 0., 0., 0., 0.,\n",
              "          0., 0., 0., 0., 0., 0., 0., 0.]]])"
            ]
          },
          "metadata": {
            "tags": []
          },
          "execution_count": 59
        }
      ]
    },
    {
      "cell_type": "code",
      "metadata": {
        "id": "BGqyiC0RhcQk"
      },
      "source": [
        "def targetTensor(line):\n",
        "  letter_indexes = [all_letters.find(line[li]) for li in range(1,len(line))]\n",
        "  letter_indexes.append(n_letters -1 ) #EOS\n",
        "  return torch.LongTensor(letter_indexes)"
      ],
      "execution_count": null,
      "outputs": []
    },
    {
      "cell_type": "code",
      "metadata": {
        "id": "P5lCTrvHorQt"
      },
      "source": [
        "def randomTrainingExample():\n",
        "  category , line = randomTrainingPair()\n",
        "  category_tensor = categoryTensor(category)\n",
        "  input_line_tensor = inputTensor(line)\n",
        "  target_line_tensor = targetTensor(line)\n",
        "  return category_tensor, input_line_tensor, target_line_tensor"
      ],
      "execution_count": null,
      "outputs": []
    },
    {
      "cell_type": "code",
      "metadata": {
        "id": "3YKu7l7DqarN"
      },
      "source": [
        "# training the network : \n",
        "\n",
        "criterion = nn.NLLLoss()\n",
        "learning_rate = 0.0005"
      ],
      "execution_count": null,
      "outputs": []
    },
    {
      "cell_type": "code",
      "metadata": {
        "id": "Ix3iSSTsqrGn"
      },
      "source": [
        "def train(category_tensor, input_line_tensor, target_line_tensor):\n",
        "  target_line_tensor.unsqueeze_(-1)\n",
        "  hidden = rnn.initHidden()\n",
        "\n",
        "  rnn.zero_grad()\n",
        "  loss = 0\n",
        "  for i in range(input_line_tensor.size(0)):\n",
        "    output, hidden = rnn(category_tensor, input_line_tensor[i], hidden)\n",
        "    l = criterion(output, target_line_tensor[i])\n",
        "    loss +=l  # the loss is the sum of losses obtained after every predection ol letter\n",
        "\n",
        "  loss.backward() # \n",
        "\n",
        "  for p in rnn.parameters():\n",
        "    p.data.add_(p.grad.data, alpha =- learning_rate)\n",
        "  return output, loss.item()/input_line_tensor.size(0)"
      ],
      "execution_count": null,
      "outputs": []
    },
    {
      "cell_type": "code",
      "metadata": {
        "id": "hrIdoPV7y9GF"
      },
      "source": [
        "import time \n",
        "import math \n"
      ],
      "execution_count": null,
      "outputs": []
    },
    {
      "cell_type": "code",
      "metadata": {
        "id": "RyIcaKQb0vhJ"
      },
      "source": [
        "def timeSince(since):\n",
        "  now = time.time()\n",
        "  s = now -since\n",
        "  m = math.floor(s/60)\n",
        "  s -=m*60\n",
        "  return '%dm %ds' % (m,s)\n"
      ],
      "execution_count": null,
      "outputs": []
    },
    {
      "cell_type": "code",
      "metadata": {
        "id": "u03BMaM66bLN"
      },
      "source": [
        "#randomTrainingExample()"
      ],
      "execution_count": null,
      "outputs": []
    },
    {
      "cell_type": "code",
      "metadata": {
        "colab": {
          "base_uri": "https://localhost:8080/"
        },
        "id": "Sckj5rZt2OYc",
        "outputId": "5c74fb7e-b9a1-45e2-9b30-c4faafe2d94c"
      },
      "source": [
        "rnn = RNN(n_letters, 128, n_letters)\n",
        "n_iters = 100000\n",
        "print_every = 5000\n",
        "plot_every = 500\n",
        "all_loss = [] # visualisation \n",
        "total_loss = 0 # reset every plot iter\n",
        "\n",
        "start = time.time() # begin of the trainning process \n",
        "\n",
        "for iter in range(1, n_iters+1):\n",
        "  output, loss = train(*randomTrainingExample())\n",
        "  total_loss += loss \n",
        "  if iter% print_every ==0:\n",
        "    print('%s (%d %d%%) %.4f' % (timeSince(start), iter, iter / n_iters * 100, loss))\n",
        "  \n",
        "  if iter% plot_every ==0:\n",
        "    all_loss.append(total_loss/plot_every)\n",
        "    total_loss = 0 # reset \n",
        "\n"
      ],
      "execution_count": null,
      "outputs": [
        {
          "output_type": "stream",
          "text": [
            "0m 19s (5000 5%) 2.7378\n",
            "0m 38s (10000 10%) 2.5159\n",
            "0m 57s (15000 15%) 2.4979\n",
            "1m 17s (20000 20%) 2.1268\n",
            "1m 36s (25000 25%) 2.8711\n",
            "1m 55s (30000 30%) 2.2647\n",
            "2m 13s (35000 35%) 1.9541\n",
            "2m 33s (40000 40%) 1.4979\n",
            "2m 52s (45000 45%) 2.7440\n",
            "3m 11s (50000 50%) 2.6517\n",
            "3m 30s (55000 55%) 2.2033\n",
            "3m 49s (60000 60%) 2.1683\n",
            "4m 7s (65000 65%) 1.9683\n",
            "4m 26s (70000 70%) 2.5193\n",
            "4m 45s (75000 75%) 2.5731\n",
            "5m 5s (80000 80%) 2.0960\n",
            "5m 24s (85000 85%) 2.5743\n",
            "5m 42s (90000 90%) 1.7792\n",
            "6m 1s (95000 95%) 2.2773\n",
            "6m 20s (100000 100%) 2.2823\n"
          ],
          "name": "stdout"
        }
      ]
    },
    {
      "cell_type": "code",
      "metadata": {
        "colab": {
          "base_uri": "https://localhost:8080/",
          "height": 265
        },
        "id": "Irapn9dY1rCD",
        "outputId": "1a8fb4c0-9cbb-4ebc-f584-def58444f9f1"
      },
      "source": [
        "import matplotlib.pyplot as plt\n",
        "import matplotlib.ticker as ticker\n",
        "\n",
        "plt.figure()\n",
        "plt.plot(all_loss)\n",
        "plt.show()"
      ],
      "execution_count": null,
      "outputs": [
        {
          "output_type": "display_data",
          "data": {
            "image/png": "[encoded data removed]",
            "text/plain": [
              "<Figure size 432x288 with 1 Axes>"
            ]
          },
          "metadata": {
            "tags": [],
            "needs_background": "light"
          }
        }
      ]
    },
    {
      "cell_type": "code",
      "metadata": {
        "id": "LDVlR5aXAEI7"
      },
      "source": [
        "max_length = 20\n",
        "\n",
        "# Sample from a category and starting letter\n",
        "def sample(category, start_letter='A'):\n",
        "    with torch.no_grad():  # no need to track history in sampling\n",
        "        category_tensor = categoryTensor(category)\n",
        "        input = inputTensor(start_letter)\n",
        "        hidden = rnn.initHidden()\n",
        "\n",
        "        output_name = start_letter\n",
        "\n",
        "        for i in range(max_length):\n",
        "            output, hidden = rnn(category_tensor, input[0], hidden)\n",
        "            topv, topi = output.topk(1) # gives top k and their index \n",
        "            topi = topi[0][0] \n",
        "            if topi == n_letters - 1: # if it is EOS \n",
        "                break\n",
        "            else:\n",
        "                letter = all_letters[topi]\n",
        "                output_name += letter # concatenation \n",
        "            input = inputTensor(letter)\n",
        "\n",
        "        return output_name\n",
        "\n",
        "# Get multiple samples from one category and multiple starting letters\n",
        "def samples(category, start_letters='ABC'):\n",
        "    for start_letter in start_letters:\n",
        "        print(sample(category, start_letter))"
      ],
      "execution_count": null,
      "outputs": []
    },
    {
      "cell_type": "code",
      "metadata": {
        "colab": {
          "base_uri": "https://localhost:8080/"
        },
        "id": "IBzLPYyuAvae",
        "outputId": "94c33904-0187-4e96-c742-da39da0c3082"
      },
      "source": [
        "samples('Russian', 'RUS')"
      ],
      "execution_count": null,
      "outputs": [
        {
          "output_type": "stream",
          "text": [
            "Rovakov\n",
            "Uakovaki\n",
            "Shavakiv\n"
          ],
          "name": "stdout"
        }
      ]
    }
  ]
}